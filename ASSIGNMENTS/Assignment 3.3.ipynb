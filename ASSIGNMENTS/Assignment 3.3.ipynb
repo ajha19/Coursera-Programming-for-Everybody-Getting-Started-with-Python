{
 "cells": [
  {
   "cell_type": "code",
   "execution_count": 2,
   "metadata": {
    "collapsed": false
   },
   "outputs": [
    {
     "name": "stdout",
     "output_type": "stream",
     "text": [
      "unesite broj0.85\n",
      "B\n"
     ]
    }
   ],
   "source": [
    "x = float(raw_input(\"unesite broj\"))\n",
    "if x <= 1 and x > 0:\n",
    "    if x >= 0.9:\n",
    "        print \"A\"\n",
    "    elif x >= 0.8:\n",
    "        print \"B\"\n",
    "    elif x >= 0.7:\n",
    "        print \"C\"\n",
    "    elif x >= 0.6:\n",
    "        print \"D\"\n",
    "    elif x < 0.6:\n",
    "        print \"D\"\n",
    "else:\n",
    "    print \"error\""
   ]
  }
 ],
 "metadata": {
  "kernelspec": {
   "display_name": "Python 2",
   "language": "python",
   "name": "python2"
  },
  "language_info": {
   "codemirror_mode": {
    "name": "ipython",
    "version": 2
   },
   "file_extension": ".py",
   "mimetype": "text/x-python",
   "name": "python",
   "nbconvert_exporter": "python",
   "pygments_lexer": "ipython2",
   "version": "2.7.11"
  }
 },
 "nbformat": 4,
 "nbformat_minor": 0
}
