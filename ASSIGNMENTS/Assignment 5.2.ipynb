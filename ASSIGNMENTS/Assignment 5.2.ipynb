{
 "cells": [
  {
   "cell_type": "code",
   "execution_count": null,
   "metadata": {
    "collapsed": true
   },
   "outputs": [],
   "source": [
    "largest = None\n",
    "smallest = None\n",
    "while True:\n",
    "    num = raw_input(\"Enter a number: \")\n",
    "    if num == \"done\": break\n",
    "    try:\n",
    "        num = int(num)\n",
    "        if largest is None or largest < num: largest = num\n",
    "        if smallest is None or smallest > num: smallest = num\n",
    "    except:\n",
    "        print \"Invalid input\"; continue\n",
    "print \"Maximum is\",largest; print \"Minimum is\",smallest"
   ]
  }
 ],
 "metadata": {
  "kernelspec": {
   "display_name": "Python 2",
   "language": "python",
   "name": "python2"
  },
  "language_info": {
   "codemirror_mode": {
    "name": "ipython",
    "version": 2
   },
   "file_extension": ".py",
   "mimetype": "text/x-python",
   "name": "python",
   "nbconvert_exporter": "python",
   "pygments_lexer": "ipython2",
   "version": "2.7.11"
  }
 },
 "nbformat": 4,
 "nbformat_minor": 0
}
