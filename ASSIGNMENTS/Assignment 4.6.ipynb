{
 "cells": [
  {
   "cell_type": "code",
   "execution_count": 1,
   "metadata": {
    "collapsed": false
   },
   "outputs": [
    {
     "name": "stdout",
     "output_type": "stream",
     "text": [
      "unesite sate45\n",
      "unesite cijenu po satu10.5\n",
      "498.75\n"
     ]
    }
   ],
   "source": [
    "def computepay():\n",
    "    h = int(raw_input(\"unesite sate\"))\n",
    "    r = float(raw_input(\"unesite cijenu po satu\"))\n",
    "    if h > 40:\n",
    "        return 40*r+ (h-40)*r*1.5\n",
    "    else:\n",
    "        return h*r\n",
    "print computepay()"
   ]
  }
 ],
 "metadata": {
  "kernelspec": {
   "display_name": "Python 2",
   "language": "python",
   "name": "python2"
  },
  "language_info": {
   "codemirror_mode": {
    "name": "ipython",
    "version": 2
   },
   "file_extension": ".py",
   "mimetype": "text/x-python",
   "name": "python",
   "nbconvert_exporter": "python",
   "pygments_lexer": "ipython2",
   "version": "2.7.11"
  }
 },
 "nbformat": 4,
 "nbformat_minor": 0
}
