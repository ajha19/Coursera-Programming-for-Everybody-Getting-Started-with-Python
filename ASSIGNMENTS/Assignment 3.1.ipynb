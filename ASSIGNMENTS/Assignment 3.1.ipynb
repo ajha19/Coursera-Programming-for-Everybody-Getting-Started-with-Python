{
 "cells": [
  {
   "cell_type": "code",
   "execution_count": 1,
   "metadata": {
    "collapsed": false
   },
   "outputs": [
    {
     "name": "stdout",
     "output_type": "stream",
     "text": [
      "Enter Hours:45\n",
      "Enter rate per hour10.5\n",
      "498.75\n"
     ]
    }
   ],
   "source": [
    "hrs = raw_input(\"Enter Hours:\")\n",
    "h = float(hrs)\n",
    "rph = float(raw_input(\"Enter rate per hour\"))\n",
    "\n",
    "if hrs > 40:\n",
    "    print 40*rph + (h-40)*rph*1.5\n",
    "else:\n",
    "    print h*rph"
   ]
  }
 ],
 "metadata": {
  "kernelspec": {
   "display_name": "Python 2",
   "language": "python",
   "name": "python2"
  },
  "language_info": {
   "codemirror_mode": {
    "name": "ipython",
    "version": 2
   },
   "file_extension": ".py",
   "mimetype": "text/x-python",
   "name": "python",
   "nbconvert_exporter": "python",
   "pygments_lexer": "ipython2",
   "version": "2.7.11"
  }
 },
 "nbformat": 4,
 "nbformat_minor": 0
}
